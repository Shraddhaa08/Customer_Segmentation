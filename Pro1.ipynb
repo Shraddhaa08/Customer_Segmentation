{
  "cells": [
    {
      "cell_type": "markdown",
      "metadata": {
        "id": "view-in-github",
        "colab_type": "text"
      },
      "source": [
        "<a href=\"https://colab.research.google.com/github/Shraddhaa08/Customer_Segmentation/blob/main/Pro1.ipynb\" target=\"_parent\"><img src=\"https://colab.research.google.com/assets/colab-badge.svg\" alt=\"Open In Colab\"/></a>"
      ]
    },
    {
      "cell_type": "code",
      "execution_count": 2,
      "id": "c40d9ed1",
      "metadata": {
        "id": "c40d9ed1"
      },
      "outputs": [],
      "source": [
        "import pandas as pd\n",
        "from sklearn.cluster import KMeans\n",
        "from datetime import datetime\n",
        "import matplotlib.pyplot as plt\n",
        "# To load the data\n",
        "file_path ='/content/cubics_progress_goal_data_final.csv'\n",
        "df = pd.read_csv(file_path)"
      ]
    },
    {
      "cell_type": "code",
      "execution_count": 3,
      "id": "4f88bc38",
      "metadata": {
        "id": "4f88bc38",
        "colab": {
          "base_uri": "https://localhost:8080/"
        },
        "outputId": "3795de15-88c8-4813-b446-c6cb952f7486"
      },
      "outputs": [
        {
          "output_type": "stream",
          "name": "stdout",
          "text": [
            "Total unique users: 1000\n"
          ]
        }
      ],
      "source": [
        "#1: Count the total number of unique users\n",
        "unique_users = df[\"UserName\"].nunique()\n",
        "print(\"Total unique users:\", unique_users)"
      ]
    },
    {
      "cell_type": "code",
      "execution_count": 4,
      "id": "d1e7036b",
      "metadata": {
        "id": "d1e7036b",
        "colab": {
          "base_uri": "https://localhost:8080/"
        },
        "outputId": "5b363655-4a16-46e7-877b-d29617137f19"
      },
      "outputs": [
        {
          "output_type": "stream",
          "name": "stdout",
          "text": [
            "Distinct course titles: ['PENA PPS A3 Problem Solving SME L1' 'PENA PPS WPR SME L1'\n",
            " 'PENA PPS SQCDP SME L3' 'PENA PPS 6S SME L1'\n",
            " 'PENA PPS Standard Work SME L3' 'PENA PPS WPR SME L3'\n",
            " 'PENA PPS A3 Problem Solving SME L3' 'PENA PPS 6S SME L2'\n",
            " 'PENA PPS SQCDP SME L1' 'PENA PPS WPR SME L2'\n",
            " 'PENA PPS A3 Problem Solving SME L2' 'PENA PPS 6S SME L3'\n",
            " 'PENA PPS SQCDP SME L2' 'PENA PPS Standard Work SME L1'\n",
            " 'PENA PPS Standard Work SME L2']\n"
          ]
        }
      ],
      "source": [
        "#2: List all distinct course titles\n",
        "distinct_courses = df[\"Course Title\"].unique()\n",
        "print(\"Distinct course titles:\", distinct_courses)"
      ]
    },
    {
      "cell_type": "code",
      "execution_count": 5,
      "id": "291f0d27",
      "metadata": {
        "id": "291f0d27",
        "colab": {
          "base_uri": "https://localhost:8080/"
        },
        "outputId": "e9d3f668-f968-40a6-8acc-bfcbd239bee9"
      },
      "outputs": [
        {
          "output_type": "stream",
          "name": "stdout",
          "text": [
            "Completed courses:\n",
            "      UserName Active Status  Direct Manager First Name Last Name  \\\n",
            "4         2355           YES  Caitlin Little      Jason   Hendrix   \n",
            "6         2355           YES  Caitlin Little      Jason   Hendrix   \n",
            "7         2355           YES  Caitlin Little      Jason   Hendrix   \n",
            "9         7921           YES   Matthew Ortiz     Ashley   Russell   \n",
            "25        3591           YES   Jonathan Wade      Robin   Nielsen   \n",
            "...        ...           ...             ...        ...       ...   \n",
            "7938      4223           YES      Tina Scott     Angela    Murphy   \n",
            "7941      4223           YES      Tina Scott     Angela    Murphy   \n",
            "7942      4223           YES      Tina Scott     Angela    Murphy   \n",
            "7945      3588           YES   Patrick Payne    Allison     Combs   \n",
            "7949      6261           YES   Matthew Ortiz    Cynthia     Weber   \n",
            "\n",
            "                            Course Title Course Status Completion Date  \\\n",
            "4          PENA PPS Standard Work SME L3     Completed      17-12-2024   \n",
            "6     PENA PPS A3 Problem Solving SME L3     Completed      04-12-2024   \n",
            "7                     PENA PPS 6S SME L2     Completed      27-01-2024   \n",
            "9                  PENA PPS SQCDP SME L1     Completed      23-02-2024   \n",
            "25    PENA PPS A3 Problem Solving SME L2     Completed      10-10-2024   \n",
            "...                                  ...           ...             ...   \n",
            "7938                  PENA PPS 6S SME L2     Completed      23-12-2024   \n",
            "7941                 PENA PPS WPR SME L3     Completed      25-05-2024   \n",
            "7942  PENA PPS A3 Problem Solving SME L3     Completed      22-12-2024   \n",
            "7945               PENA PPS SQCDP SME L1     Completed      31-10-2024   \n",
            "7949               PENA PPS SQCDP SME L3     Completed      10-02-2024   \n",
            "\n",
            "     Enrollment Date Course Enrollment Status  Course Progress (%)  \\\n",
            "4         06-06-2024                Completed                  100   \n",
            "6         15-09-2024                Completed                  100   \n",
            "7         02-05-2024                Completed                  100   \n",
            "9         30-03-2024                Completed                  100   \n",
            "25        25-02-2024                Completed                  100   \n",
            "...              ...                      ...                  ...   \n",
            "7938      09-06-2024                Completed                  100   \n",
            "7941      22-02-2024                Completed                  100   \n",
            "7942      26-06-2024                Completed                  100   \n",
            "7945      15-05-2024                Completed                  100   \n",
            "7949      19-02-2024                Completed                  100   \n",
            "\n",
            "      Unnamed: 11 Unnamed: 12  \n",
            "4             NaN         NaN  \n",
            "6             NaN         NaN  \n",
            "7             NaN         NaN  \n",
            "9             NaN         NaN  \n",
            "25            NaN         NaN  \n",
            "...           ...         ...  \n",
            "7938          NaN         NaN  \n",
            "7941          NaN         NaN  \n",
            "7942          NaN         NaN  \n",
            "7945          NaN         NaN  \n",
            "7949          NaN         NaN  \n",
            "\n",
            "[1966 rows x 13 columns]\n"
          ]
        }
      ],
      "source": [
        "#3: Filter the data to show only completed courses\n",
        "completed_courses = df[df[\"Course Status\"] == \"Completed\"]\n",
        "print(\"Completed courses:\")\n",
        "print(completed_courses)"
      ]
    },
    {
      "cell_type": "code",
      "execution_count": 6,
      "id": "93445f2a",
      "metadata": {
        "id": "93445f2a",
        "colab": {
          "base_uri": "https://localhost:8080/"
        },
        "outputId": "fcc98629-7a42-4d25-8d6f-ea2c022f5027"
      },
      "outputs": [
        {
          "output_type": "stream",
          "name": "stdout",
          "text": [
            "Courses with 100% progress:\n",
            "      UserName Active Status  Direct Manager First Name Last Name  \\\n",
            "1         3116           YES     Amanda Pena      Brian  Johnston   \n",
            "4         2355           YES  Caitlin Little      Jason   Hendrix   \n",
            "6         2355           YES  Caitlin Little      Jason   Hendrix   \n",
            "7         2355           YES  Caitlin Little      Jason   Hendrix   \n",
            "9         7921           YES   Matthew Ortiz     Ashley   Russell   \n",
            "...        ...           ...             ...        ...       ...   \n",
            "7938      4223           YES      Tina Scott     Angela    Murphy   \n",
            "7941      4223           YES      Tina Scott     Angela    Murphy   \n",
            "7942      4223           YES      Tina Scott     Angela    Murphy   \n",
            "7945      3588           YES   Patrick Payne    Allison     Combs   \n",
            "7949      6261           YES   Matthew Ortiz    Cynthia     Weber   \n",
            "\n",
            "                            Course Title Course Status Completion Date  \\\n",
            "1                    PENA PPS WPR SME L1      Enrolled             NaN   \n",
            "4          PENA PPS Standard Work SME L3     Completed      17-12-2024   \n",
            "6     PENA PPS A3 Problem Solving SME L3     Completed      04-12-2024   \n",
            "7                     PENA PPS 6S SME L2     Completed      27-01-2024   \n",
            "9                  PENA PPS SQCDP SME L1     Completed      23-02-2024   \n",
            "...                                  ...           ...             ...   \n",
            "7938                  PENA PPS 6S SME L2     Completed      23-12-2024   \n",
            "7941                 PENA PPS WPR SME L3     Completed      25-05-2024   \n",
            "7942  PENA PPS A3 Problem Solving SME L3     Completed      22-12-2024   \n",
            "7945               PENA PPS SQCDP SME L1     Completed      31-10-2024   \n",
            "7949               PENA PPS SQCDP SME L3     Completed      10-02-2024   \n",
            "\n",
            "     Enrollment Date Course Enrollment Status  Course Progress (%)  \\\n",
            "1         13-09-2024                 Enrolled                  100   \n",
            "4         06-06-2024                Completed                  100   \n",
            "6         15-09-2024                Completed                  100   \n",
            "7         02-05-2024                Completed                  100   \n",
            "9         30-03-2024                Completed                  100   \n",
            "...              ...                      ...                  ...   \n",
            "7938      09-06-2024                Completed                  100   \n",
            "7941      22-02-2024                Completed                  100   \n",
            "7942      26-06-2024                Completed                  100   \n",
            "7945      15-05-2024                Completed                  100   \n",
            "7949      19-02-2024                Completed                  100   \n",
            "\n",
            "      Unnamed: 11 Unnamed: 12  \n",
            "1             NaN         NaN  \n",
            "4             NaN         NaN  \n",
            "6             NaN         NaN  \n",
            "7             NaN         NaN  \n",
            "9             NaN         NaN  \n",
            "...           ...         ...  \n",
            "7938          NaN         NaN  \n",
            "7941          NaN         NaN  \n",
            "7942          NaN         NaN  \n",
            "7945          NaN         NaN  \n",
            "7949          NaN         NaN  \n",
            "\n",
            "[2024 rows x 13 columns]\n"
          ]
        }
      ],
      "source": [
        "#4: Identify the courses with 100% progress\n",
        "courses_with_full_progress = df[df[\"Course Progress (%)\"] == 100]\n",
        "print(\"Courses with 100% progress:\")\n",
        "print(courses_with_full_progress)"
      ]
    },
    {
      "cell_type": "code",
      "execution_count": 8,
      "id": "866ef105",
      "metadata": {
        "lines_to_next_cell": 2,
        "id": "866ef105",
        "colab": {
          "base_uri": "https://localhost:8080/"
        },
        "outputId": "677a9279-c8b7-4651-f8a3-9d5466ac2b12"
      },
      "outputs": [
        {
          "output_type": "stream",
          "name": "stdout",
          "text": [
            "Number of courses completed by each user:\n",
            "UserName\n",
            "1005    2\n",
            "1007    3\n",
            "1010    6\n",
            "1017    2\n",
            "1061    7\n",
            "       ..\n",
            "9934    1\n",
            "9937    3\n",
            "9956    1\n",
            "9960    2\n",
            "9990    3\n",
            "Name: Course Title, Length: 803, dtype: int64\n"
          ]
        }
      ],
      "source": [
        "#5: Count the number of courses completed by each user\n",
        "courses_completed_by_user = (\n",
        "    completed_courses.groupby(\"UserName\")[\"Course Title\"].count()\n",
        ")\n",
        "print(\"Number of courses completed by each user:\")\n",
        "print(courses_completed_by_user)"
      ]
    },
    {
      "cell_type": "code",
      "execution_count": 9,
      "id": "76b01b2d",
      "metadata": {
        "id": "76b01b2d",
        "colab": {
          "base_uri": "https://localhost:8080/"
        },
        "outputId": "c91f25ea-fd0a-4309-b731-c87a237e71b7"
      },
      "outputs": [
        {
          "output_type": "stream",
          "name": "stdout",
          "text": [
            "Average Course Progress for All Users: 62.19%\n"
          ]
        }
      ],
      "source": [
        "#6:Calculate the average course progress for all users\n",
        "average_progress = df[\"Course Progress (%)\"].mean()\n",
        "print(f\"Average Course Progress for All Users: {average_progress:.2f}%\")"
      ]
    },
    {
      "cell_type": "code",
      "execution_count": 10,
      "id": "50ee974f",
      "metadata": {
        "id": "50ee974f",
        "colab": {
          "base_uri": "https://localhost:8080/"
        },
        "outputId": "7720591f-82c8-4dcf-99fa-22b584939699"
      },
      "outputs": [
        {
          "output_type": "stream",
          "name": "stdout",
          "text": [
            "\n",
            "Top 5 Managers with the Most Users:\n",
            "Direct Manager\n",
            "Christopher Franco    34\n",
            "Amanda Pena           29\n",
            "Wendy Hall            28\n",
            "Patrick Payne         27\n",
            "David Bowman          25\n",
            "Name: UserName, dtype: int64\n"
          ]
        }
      ],
      "source": [
        "#7: Find the top 5 managers with the most users under their supervision\n",
        "top_managers = df.groupby(\"Direct Manager\")[\"UserName\"].nunique().sort_values(ascending=False).head(5)\n",
        "print(\"\\nTop 5 Managers with the Most Users:\")\n",
        "print(top_managers)"
      ]
    },
    {
      "cell_type": "code",
      "execution_count": 11,
      "id": "11f2d8a2",
      "metadata": {
        "id": "11f2d8a2",
        "colab": {
          "base_uri": "https://localhost:8080/"
        },
        "outputId": "029aca03-14d3-4c04-c0b0-29d69fdc7a86"
      },
      "outputs": [
        {
          "output_type": "stream",
          "name": "stdout",
          "text": [
            "\n",
            "Average Course Progress by Active Status:\n",
            "Active Status\n",
            "NO     62.932804\n",
            "YES    61.959571\n",
            "Name: Course Progress (%), dtype: float64\n"
          ]
        }
      ],
      "source": [
        "#8: Group users by their active status and calculate the average course progress for each group\n",
        "average_progress_by_status = df.groupby(\"Active Status\")[\"Course Progress (%)\"].mean()\n",
        "print(\"\\nAverage Course Progress by Active Status:\")\n",
        "print(average_progress_by_status)"
      ]
    },
    {
      "cell_type": "code",
      "execution_count": 12,
      "id": "e672df9b",
      "metadata": {
        "id": "e672df9b",
        "colab": {
          "base_uri": "https://localhost:8080/"
        },
        "outputId": "893db171-1b46-407c-f506-6727908618ec"
      },
      "outputs": [
        {
          "output_type": "stream",
          "name": "stdout",
          "text": [
            "\n",
            "Number of Courses Completed in 2024: 1966\n"
          ]
        }
      ],
      "source": [
        "#9: Extract and count courses completed in 2024\n",
        "df[\"Completion Year\"] = pd.to_datetime(df[\"Completion Date\"],dayfirst=True, errors=\"coerce\").dt.year\n",
        "courses_completed_2024 = df[df[\"Completion Year\"] == 2024]\n",
        "num_courses_completed_2024 = courses_completed_2024.shape[0]\n",
        "print(f\"\\nNumber of Courses Completed in 2024: {num_courses_completed_2024}\")"
      ]
    },
    {
      "cell_type": "code",
      "execution_count": 13,
      "id": "304a59bd",
      "metadata": {
        "id": "304a59bd"
      },
      "outputs": [],
      "source": [
        "#10: Determine the percentage of courses completed vs. in progress\n",
        "total_courses = df.shape[0]\n",
        "completed_courses = df[df[\"Course Status\"] == \"Completed\"].shape[0]\n",
        "in_progress_courses = df[df[\"Course Status\"] == \"InProgress\"].shape[0]"
      ]
    },
    {
      "cell_type": "code",
      "execution_count": 14,
      "id": "1228ad6e",
      "metadata": {
        "id": "1228ad6e"
      },
      "outputs": [],
      "source": [
        "completed_percentage = (completed_courses / total_courses) * 100\n",
        "in_progress_percentage = (in_progress_courses / total_courses) * 100"
      ]
    },
    {
      "cell_type": "code",
      "execution_count": 15,
      "id": "f2a41a2b",
      "metadata": {
        "id": "f2a41a2b",
        "colab": {
          "base_uri": "https://localhost:8080/"
        },
        "outputId": "c70d44e7-92e6-4cb2-8068-ed15f5e569bd"
      },
      "outputs": [
        {
          "output_type": "stream",
          "name": "stdout",
          "text": [
            "\n",
            "Percentage of Courses Completed: 24.73%\n",
            "Percentage of Courses In Progress: 50.33%\n"
          ]
        }
      ],
      "source": [
        "print(f\"\\nPercentage of Courses Completed: {completed_percentage:.2f}%\")\n",
        "print(f\"Percentage of Courses In Progress: {in_progress_percentage:.2f}%\")"
      ]
    },
    {
      "cell_type": "code",
      "execution_count": 16,
      "id": "b2a4e792",
      "metadata": {
        "id": "b2a4e792",
        "colab": {
          "base_uri": "https://localhost:8080/"
        },
        "outputId": "b406a94c-cbfa-459d-d040-85832b3a405c"
      },
      "outputs": [
        {
          "output_type": "stream",
          "name": "stdout",
          "text": [
            "Users who completed all their courses:\n",
            "     UserName  Course Status\n",
            "84       1808           True\n",
            "172      2603           True\n",
            "351      4263           True\n",
            "416      4892           True\n",
            "445      5119           True\n",
            "464      5262           True\n",
            "592      6381           True\n",
            "596      6399           True\n",
            "617      6583           True\n",
            "708      7265           True\n",
            "864      8780           True\n",
            "873      8866           True\n",
            "909      9142           True\n"
          ]
        }
      ],
      "source": [
        "#11: Identify users who have completed all their enrolled courses\n",
        "completed_users = df.groupby('UserName')['Course Status'].apply(lambda x: all(x == 'Completed')).reset_index()\n",
        "completed_users = completed_users[completed_users['Course Status'] == True]\n",
        "print(\"Users who completed all their courses:\")\n",
        "print(completed_users)"
      ]
    },
    {
      "cell_type": "code",
      "execution_count": 17,
      "id": "6a2b2ff1",
      "metadata": {
        "id": "6a2b2ff1",
        "colab": {
          "base_uri": "https://localhost:8080/"
        },
        "outputId": "f34f14b9-60da-4a5b-a021-6adcadc5539c"
      },
      "outputs": [
        {
          "output_type": "stream",
          "name": "stdout",
          "text": [
            "\n",
            "Users with more than 5 courses but avg progress below 50%:\n",
            "     UserName  Course Progress (%)\n",
            "15       1219            42.555556\n",
            "29       1407            47.700000\n",
            "34       1449            46.923077\n",
            "36       1497            47.000000\n",
            "39       1514            48.500000\n",
            "..        ...                  ...\n",
            "601      9120            44.875000\n",
            "614      9353            49.285714\n",
            "617      9408            38.833333\n",
            "622      9448            48.142857\n",
            "657      9916            43.333333\n",
            "\n",
            "[87 rows x 2 columns]\n"
          ]
        }
      ],
      "source": [
        "#12: Find users who enrolled in more than 5 courses but have an average progress below 50%\n",
        "users_above_5_courses = df.groupby('UserName').filter(lambda x: len(x) > 5)\n",
        "users_low_progress = users_above_5_courses.groupby('UserName')['Course Progress (%)'].mean().reset_index()\n",
        "users_low_progress = users_low_progress[users_low_progress['Course Progress (%)'] < 50]\n",
        "print(\"\\nUsers with more than 5 courses but avg progress below 50%:\")\n",
        "print(users_low_progress)"
      ]
    },
    {
      "cell_type": "code",
      "execution_count": 18,
      "id": "a7a53dc7",
      "metadata": {
        "lines_to_next_cell": 2,
        "id": "a7a53dc7",
        "colab": {
          "base_uri": "https://localhost:8080/"
        },
        "outputId": "fc7999a4-c669-44d4-ca5f-4e06777d055f"
      },
      "outputs": [
        {
          "output_type": "stream",
          "name": "stdout",
          "text": [
            "\n",
            "Number of users per manager with average course progress:\n",
            "         Direct Manager  num_users  avg_progress\n",
            "0       Alexandra Irwin         20     63.948387\n",
            "1           Amanda Pace         23     58.964706\n",
            "2           Amanda Pena         29     61.943231\n",
            "3       Benjamin Nelson         18     61.853147\n",
            "4          Beth Edwards         15     60.323529\n",
            "5        Caitlin Little         22     66.874346\n",
            "6    Christopher Franco         34     66.530000\n",
            "7    Christopher Spence         19     60.109489\n",
            "8         Cory Thompson         18     65.723684\n",
            "9          David Bowman         25     63.381643\n",
            "10       Dennis Webster         10     56.841270\n",
            "11         Donald Boyer         19     59.414062\n",
            "12          Erica Moore         16     66.190476\n",
            "13          Erin Harris         18     62.246835\n",
            "14           Erin Russo         24     67.594595\n",
            "15        Gerald Stokes         18     60.691275\n",
            "16        Gregory Davis         23     66.494382\n",
            "17      Heather Jackson         25     62.405797\n",
            "18       Jennifer Moore         20     58.099415\n",
            "19     Jessica Brown MD         20     64.652778\n",
            "20          Jon Daniels         17     58.942857\n",
            "21        Jonathan Wade         21     58.583893\n",
            "22      Jordan Mckinney         14     66.407407\n",
            "23     Justin Rodriguez         18     58.967033\n",
            "24       Kristen Harris         17     60.775758\n",
            "25          Laura Davis         24     62.128440\n",
            "26        Laura Wiggins         18     61.581818\n",
            "27         Lisa Vasquez         19     58.704545\n",
            "28           Lori Ochoa         21     65.930108\n",
            "29        Mark Ferguson         24     63.050279\n",
            "30          Mary Martin         13     62.392857\n",
            "31         Matthew King         15     60.682243\n",
            "32        Matthew Ortiz         10     60.910256\n",
            "33     Mckenzie Solomon         18     60.078014\n",
            "34        Meghan Barker         21     60.714286\n",
            "35       Meredith Baker         19     63.950311\n",
            "36         Miguel Yates         23     61.211055\n",
            "37  Miss Sara Boyer DVM         20     59.369565\n",
            "38        Nathan Barnes         15     53.925234\n",
            "39    Nicholas Robinson         18     63.108108\n",
            "40         Omar Pollard         24     63.333333\n",
            "41        Patrick Payne         27     63.968610\n",
            "42       Preston Thomas         17     60.112000\n",
            "43        Robert Carter         21     63.029070\n",
            "44         Roger George         21     62.633333\n",
            "45         Steven White         19     59.917160\n",
            "46           Tina Scott         18     62.700000\n",
            "47         Travis Jones         22     56.474453\n",
            "48           Wendy Hall         28     62.896552\n",
            "49       William Garcia         22     62.648485\n"
          ]
        }
      ],
      "source": [
        "#13: Generate a summary showing the number of users per manager with their average course progress\n",
        "manager_summary = df.groupby('Direct Manager').agg(\n",
        "    num_users=('UserName', 'nunique'),\n",
        "    avg_progress=('Course Progress (%)', 'mean')\n",
        ").reset_index()\n",
        "print(\"\\nNumber of users per manager with average course progress:\")\n",
        "print(manager_summary)"
      ]
    },
    {
      "cell_type": "code",
      "execution_count": 20,
      "id": "3bc7a81f",
      "metadata": {
        "id": "3bc7a81f"
      },
      "outputs": [],
      "source": [
        "group_size = df.groupby('UserName').size()"
      ]
    },
    {
      "cell_type": "code",
      "execution_count": 21,
      "id": "9576deb5",
      "metadata": {
        "id": "9576deb5"
      },
      "outputs": [],
      "source": [
        "#14: Reindex group_size to match completed_users' index\n",
        "group_size = group_size.reindex(completed_users.index, fill_value=0)"
      ]
    },
    {
      "cell_type": "code",
      "execution_count": 22,
      "id": "9b0e1514",
      "metadata": {
        "id": "9b0e1514"
      },
      "outputs": [],
      "source": [
        "#15:Compare the average course progress between active and inactive users\n",
        "df['Course Progress (%)'] = pd.to_numeric(df['Course Progress (%)'], errors='coerce')"
      ]
    },
    {
      "cell_type": "code",
      "execution_count": 23,
      "id": "fc8d87f4",
      "metadata": {
        "id": "fc8d87f4"
      },
      "outputs": [],
      "source": [
        "# Group by 'Active Status' and calculate the average progress\n",
        "average_progress = df.groupby('Active Status')['Course Progress (%)'].mean()"
      ]
    },
    {
      "cell_type": "code",
      "execution_count": 24,
      "id": "3d8b94f4",
      "metadata": {
        "id": "3d8b94f4",
        "colab": {
          "base_uri": "https://localhost:8080/"
        },
        "outputId": "392ec86e-d9f3-4a63-8367-874aae99b658"
      },
      "outputs": [
        {
          "output_type": "stream",
          "name": "stdout",
          "text": [
            "Average Course Progress by Active Status:\n",
            "Active Status\n",
            "NO     62.932804\n",
            "YES    61.959571\n",
            "Name: Course Progress (%), dtype: float64\n"
          ]
        }
      ],
      "source": [
        "# To Display the result\n",
        "print(\"Average Course Progress by Active Status:\")\n",
        "print(average_progress)"
      ]
    },
    {
      "cell_type": "code",
      "execution_count": 25,
      "id": "33180663",
      "metadata": {
        "id": "33180663"
      },
      "outputs": [],
      "source": [
        "# Ensure proper parsing of dates with dayfirst=True\n",
        "df['Completion Date'] = pd.to_datetime(df['Completion Date'], errors='coerce', dayfirst=True)\n",
        "df['Enrollment Date'] = pd.to_datetime(df['Enrollment Date'], errors='coerce', dayfirst=True)"
      ]
    },
    {
      "cell_type": "code",
      "execution_count": 26,
      "id": "bb220a10",
      "metadata": {
        "id": "bb220a10",
        "colab": {
          "base_uri": "https://localhost:8080/"
        },
        "outputId": "b1fb7226-3e28-4726-fd44-b85071582f00"
      },
      "outputs": [
        {
          "output_type": "stream",
          "name": "stdout",
          "text": [
            "Warning: Some dates could not be converted to datetime. They will be ignored.\n"
          ]
        }
      ],
      "source": [
        "# Check for invalid dates\n",
        "if df['Completion Date'].isnull().any() or df['Enrollment Date'].isnull().any():\n",
        "    print(\"Warning: Some dates could not be converted to datetime. They will be ignored.\")"
      ]
    },
    {
      "cell_type": "code",
      "execution_count": 27,
      "id": "38efa19e",
      "metadata": {
        "id": "38efa19e",
        "colab": {
          "base_uri": "https://localhost:8080/"
        },
        "outputId": "d86d7665-aa1c-4f56-ab8c-372c49ad257b"
      },
      "outputs": [
        {
          "output_type": "stream",
          "name": "stdout",
          "text": [
            "Warning: Some dates could not be converted to datetime. They will be ignored.\n"
          ]
        }
      ],
      "source": [
        "# Check for invalid or missing dates\n",
        "if df['Completion Date'].isnull().any() or df['Enrollment Date'].isnull().any():\n",
        "    print(\"Warning: Some dates could not be converted to datetime. They will be ignored.\")"
      ]
    },
    {
      "cell_type": "code",
      "execution_count": 28,
      "id": "03268310",
      "metadata": {
        "id": "03268310"
      },
      "outputs": [],
      "source": [
        "# Task 16: Calculate time taken to complete each course and find average duration\n",
        "df['Completion Time (Days)'] = (df['Completion Date'] - df['Enrollment Date']).dt.days"
      ]
    },
    {
      "cell_type": "code",
      "execution_count": 29,
      "id": "31c71a85",
      "metadata": {
        "id": "31c71a85",
        "colab": {
          "base_uri": "https://localhost:8080/"
        },
        "outputId": "57d3de47-4f66-421f-bbbc-f55ca3661e80"
      },
      "outputs": [
        {
          "output_type": "stream",
          "name": "stdout",
          "text": [
            "Average Duration: 4.19 days\n"
          ]
        }
      ],
      "source": [
        "# Ignore rows where the calculation is invalid\n",
        "valid_durations = df['Completion Time (Days)'].dropna()\n",
        "average_duration = valid_durations.mean()\n",
        "print(f\"Average Duration: {average_duration:.2f} days\")"
      ]
    },
    {
      "cell_type": "code",
      "execution_count": 30,
      "id": "928fb723",
      "metadata": {
        "id": "928fb723"
      },
      "outputs": [],
      "source": [
        "# Task 17: Predict likelihood of completion based on progress percentage\n",
        "df['Likelihood of Completion'] = df['Course Progress (%)'].apply(lambda x: 'High' if x > 80 else 'Low')"
      ]
    },
    {
      "cell_type": "code",
      "execution_count": 31,
      "id": "9d9fa09e",
      "metadata": {
        "id": "9d9fa09e",
        "colab": {
          "base_uri": "https://localhost:8080/"
        },
        "outputId": "91300846-4e41-46d5-86d1-2d9f307d9928"
      },
      "outputs": [
        {
          "output_type": "stream",
          "name": "stdout",
          "text": [
            "Anomalies:\n",
            "      UserName Active Status       Direct Manager   First Name   Last Name  \\\n",
            "1         3116           YES          Amanda Pena        Brian    Johnston   \n",
            "123       9990           YES         Donald Boyer     Brittney      Gibson   \n",
            "504       9471           YES           Tina Scott          Mia       Poole   \n",
            "704       8206           YES       Kristen Harris         Ryan    Atkinson   \n",
            "739       4737           YES          Amanda Pace        Sally      Howard   \n",
            "807       4691           YES     Justin Rodriguez  Christopher     Johnson   \n",
            "1068      9178           YES          Mary Martin        Linda    Caldwell   \n",
            "1218      4550           YES    Nicholas Robinson        James      Harris   \n",
            "1468      6173           YES         Miguel Yates        James        Lara   \n",
            "1507      9353           YES    Nicholas Robinson       Morgan        King   \n",
            "1963      6987           YES        Jonathan Wade     Jeremiah       Frost   \n",
            "2635      5737           YES          Amanda Pena        Corey       Smith   \n",
            "2845      7959           YES          Jon Daniels       Bonnie      Bailey   \n",
            "3136      5873           YES           Lori Ochoa    Christine    Lawrence   \n",
            "3424      7913           YES         Miguel Yates        Julie     Hopkins   \n",
            "3501      4986           YES       Jennifer Moore          Zoe      Hughes   \n",
            "3577      4644           YES           Tina Scott         John     Hubbard   \n",
            "3578      4644           YES           Tina Scott         John     Hubbard   \n",
            "3791      1512           YES   Christopher Franco      Caitlin      Martin   \n",
            "3854      7622           YES         David Bowman       Teresa       Smith   \n",
            "3940      9409           YES         Matthew King        Angel   Whitehead   \n",
            "4003      5642           YES     Jessica Brown MD      Abigail       Weber   \n",
            "4124      3514           YES           Wendy Hall       Jordan      Barker   \n",
            "4296      1754           YES      Alexandra Irwin      Vincent        Chan   \n",
            "4313      6204            NO   Christopher Franco        Emily        Hall   \n",
            "4465      3003            NO          Laura Davis      Charles        Snow   \n",
            "4562      2369           YES     Mckenzie Solomon       Joshua    Mitchell   \n",
            "4713      9612            NO        Gerald Stokes        Janet       Pitts   \n",
            "4747      9557            NO      Alexandra Irwin      Suzanne       Hardy   \n",
            "4834      2568            NO       Caitlin Little        Julia    Thompson   \n",
            "4843      7827           YES        Cory Thompson       Calvin     Roberts   \n",
            "5023      3150            NO        Gregory Davis       Brooke      Miller   \n",
            "5060      6284            NO         Roger George     Caroline     Collier   \n",
            "5283      2762           YES        Jonathan Wade       Rachel     Hampton   \n",
            "5392      6779            NO         Roger George        Brian        Ruiz   \n",
            "5440      9239            NO           Wendy Hall        Karen      Landry   \n",
            "5461      2091            NO        Robert Carter     Kathleen        Wang   \n",
            "5680      8976            NO        Patrick Payne         Lisa       Brown   \n",
            "5753      1792           YES         Steven White       Amanda      Fisher   \n",
            "5776      8605           YES          Mary Martin    Cassandra       Brown   \n",
            "5818      2063           YES        Cory Thompson    Christina   Mcconnell   \n",
            "5820      2063           YES        Cory Thompson    Christina   Mcconnell   \n",
            "5898      1277           YES        Gerald Stokes    Alexander     Jackson   \n",
            "6204      9576            NO      Heather Jackson      Michael    Harrison   \n",
            "6348      4523           YES        Jonathan Wade         John      Chavez   \n",
            "6370      5363            NO         Travis Jones       Robert       Hayes   \n",
            "6393      9711            NO       William Garcia         Eric   Patterson   \n",
            "6486      7262           YES      Heather Jackson       Rodney     Goodwin   \n",
            "6596      7117            NO        Laura Wiggins         Jose        Long   \n",
            "6678      7053           YES       Preston Thomas      Michael     Roberts   \n",
            "6732      5063            NO          Mary Martin       Rachel       Solis   \n",
            "6836      7870            NO        Mark Ferguson         Gina      Gibson   \n",
            "7097      3032            NO   Christopher Spence       Justin        Mata   \n",
            "7225      4535           YES       Meredith Baker      Michael       Gates   \n",
            "7388      8215           YES      Benjamin Nelson      William      Watson   \n",
            "7869      2742           YES         Omar Pollard         Juan       Perez   \n",
            "7889      2295           YES  Miss Sara Boyer DVM     Kimberly      Rogers   \n",
            "7900      5559           YES       Caitlin Little          Amy  Montgomery   \n",
            "\n",
            "                            Course Title Course Status Completion Date  \\\n",
            "1                    PENA PPS WPR SME L1      Enrolled             NaT   \n",
            "123   PENA PPS A3 Problem Solving SME L3    InProgress             NaT   \n",
            "504                PENA PPS SQCDP SME L1    InProgress             NaT   \n",
            "704                  PENA PPS WPR SME L2    InProgress             NaT   \n",
            "739                  PENA PPS WPR SME L1    InProgress             NaT   \n",
            "807        PENA PPS Standard Work SME L2    InProgress             NaT   \n",
            "1068               PENA PPS SQCDP SME L2    InProgress             NaT   \n",
            "1218                  PENA PPS 6S SME L2    InProgress             NaT   \n",
            "1468                  PENA PPS 6S SME L2      Enrolled             NaT   \n",
            "1507       PENA PPS Standard Work SME L2      Enrolled             NaT   \n",
            "1963                  PENA PPS 6S SME L3      Enrolled             NaT   \n",
            "2635       PENA PPS Standard Work SME L3      Enrolled             NaT   \n",
            "2845  PENA PPS A3 Problem Solving SME L3    InProgress             NaT   \n",
            "3136                  PENA PPS 6S SME L3    InProgress             NaT   \n",
            "3424               PENA PPS SQCDP SME L1    InProgress             NaT   \n",
            "3501  PENA PPS A3 Problem Solving SME L2    InProgress             NaT   \n",
            "3577  PENA PPS A3 Problem Solving SME L1    InProgress             NaT   \n",
            "3578  PENA PPS A3 Problem Solving SME L3      Enrolled             NaT   \n",
            "3791                  PENA PPS 6S SME L1    InProgress             NaT   \n",
            "3854  PENA PPS A3 Problem Solving SME L1    InProgress             NaT   \n",
            "3940               PENA PPS SQCDP SME L2      Enrolled             NaT   \n",
            "4003               PENA PPS SQCDP SME L2      Enrolled             NaT   \n",
            "4124                  PENA PPS 6S SME L2    InProgress             NaT   \n",
            "4296                 PENA PPS WPR SME L3    InProgress             NaT   \n",
            "4313               PENA PPS SQCDP SME L3    InProgress             NaT   \n",
            "4465               PENA PPS SQCDP SME L3      Enrolled             NaT   \n",
            "4562  PENA PPS A3 Problem Solving SME L3      Enrolled             NaT   \n",
            "4713               PENA PPS SQCDP SME L2    InProgress             NaT   \n",
            "4747       PENA PPS Standard Work SME L2    InProgress             NaT   \n",
            "4834  PENA PPS A3 Problem Solving SME L1    InProgress             NaT   \n",
            "4843       PENA PPS Standard Work SME L3      Enrolled             NaT   \n",
            "5023                 PENA PPS WPR SME L2    InProgress             NaT   \n",
            "5060               PENA PPS SQCDP SME L1    InProgress             NaT   \n",
            "5283       PENA PPS Standard Work SME L2    InProgress             NaT   \n",
            "5392                 PENA PPS WPR SME L3      Enrolled             NaT   \n",
            "5440       PENA PPS Standard Work SME L2    InProgress             NaT   \n",
            "5461               PENA PPS SQCDP SME L1    InProgress             NaT   \n",
            "5680                 PENA PPS WPR SME L3    InProgress             NaT   \n",
            "5753                  PENA PPS 6S SME L3    InProgress             NaT   \n",
            "5776                  PENA PPS 6S SME L2    InProgress             NaT   \n",
            "5818               PENA PPS SQCDP SME L3      Enrolled             NaT   \n",
            "5820                 PENA PPS WPR SME L3    InProgress             NaT   \n",
            "5898       PENA PPS Standard Work SME L2      Enrolled             NaT   \n",
            "6204                 PENA PPS WPR SME L1      Enrolled             NaT   \n",
            "6348       PENA PPS Standard Work SME L1      Enrolled             NaT   \n",
            "6370  PENA PPS A3 Problem Solving SME L3      Enrolled             NaT   \n",
            "6393               PENA PPS SQCDP SME L1      Enrolled             NaT   \n",
            "6486       PENA PPS Standard Work SME L2    InProgress             NaT   \n",
            "6596                 PENA PPS WPR SME L3    InProgress             NaT   \n",
            "6678  PENA PPS A3 Problem Solving SME L3    InProgress             NaT   \n",
            "6732               PENA PPS SQCDP SME L1    InProgress             NaT   \n",
            "6836       PENA PPS Standard Work SME L2      Enrolled             NaT   \n",
            "7097  PENA PPS A3 Problem Solving SME L1    InProgress             NaT   \n",
            "7225                 PENA PPS WPR SME L3    InProgress             NaT   \n",
            "7388                  PENA PPS 6S SME L1    InProgress             NaT   \n",
            "7869                 PENA PPS WPR SME L1      Enrolled             NaT   \n",
            "7889                 PENA PPS WPR SME L2      Enrolled             NaT   \n",
            "7900       PENA PPS Standard Work SME L1    InProgress             NaT   \n",
            "\n",
            "     Enrollment Date Course Enrollment Status  Course Progress (%)  \\\n",
            "1         2024-09-13                 Enrolled                  100   \n",
            "123       2024-04-10               InProgress                  100   \n",
            "504       2024-12-26               InProgress                  100   \n",
            "704       2024-05-19               InProgress                  100   \n",
            "739       2024-06-05               InProgress                  100   \n",
            "807       2024-02-05               InProgress                  100   \n",
            "1068      2024-06-13               InProgress                  100   \n",
            "1218      2024-02-18               InProgress                  100   \n",
            "1468      2024-04-01                 Enrolled                  100   \n",
            "1507      2024-02-29                 Enrolled                  100   \n",
            "1963      2024-06-27                 Enrolled                  100   \n",
            "2635      2024-02-19                 Enrolled                  100   \n",
            "2845      2024-07-06               InProgress                  100   \n",
            "3136      2024-09-26               InProgress                  100   \n",
            "3424      2024-05-08               InProgress                  100   \n",
            "3501      2024-09-04               InProgress                  100   \n",
            "3577      2024-09-14               InProgress                  100   \n",
            "3578      2024-09-03                 Enrolled                  100   \n",
            "3791      2024-11-15               InProgress                  100   \n",
            "3854      2024-06-29               InProgress                  100   \n",
            "3940      2024-05-20                 Enrolled                  100   \n",
            "4003      2024-12-17                 Enrolled                  100   \n",
            "4124      2024-11-03               InProgress                  100   \n",
            "4296      2024-07-06               InProgress                  100   \n",
            "4313      2024-08-18               InProgress                  100   \n",
            "4465      2024-05-16                 Enrolled                  100   \n",
            "4562      2024-10-25                 Enrolled                  100   \n",
            "4713      2024-09-06               InProgress                  100   \n",
            "4747      2024-04-08               InProgress                  100   \n",
            "4834      2024-12-02               InProgress                  100   \n",
            "4843      2024-11-12                 Enrolled                  100   \n",
            "5023      2024-05-07               InProgress                  100   \n",
            "5060      2024-08-12               InProgress                  100   \n",
            "5283      2024-11-08               InProgress                  100   \n",
            "5392      2024-12-02                 Enrolled                  100   \n",
            "5440      2024-05-28               InProgress                  100   \n",
            "5461      2024-02-13               InProgress                  100   \n",
            "5680      2024-06-23               InProgress                  100   \n",
            "5753      2024-05-07               InProgress                  100   \n",
            "5776      2024-08-28               InProgress                  100   \n",
            "5818      2024-05-16                 Enrolled                  100   \n",
            "5820      2024-09-25               InProgress                  100   \n",
            "5898      2024-01-28                 Enrolled                  100   \n",
            "6204      2024-03-15                 Enrolled                  100   \n",
            "6348      2024-08-26                 Enrolled                  100   \n",
            "6370      2024-12-01                 Enrolled                  100   \n",
            "6393      2024-10-17                 Enrolled                  100   \n",
            "6486      2024-02-05               InProgress                  100   \n",
            "6596      2024-01-03               InProgress                  100   \n",
            "6678      2024-12-19               InProgress                  100   \n",
            "6732      2024-12-15               InProgress                  100   \n",
            "6836      2024-08-25                 Enrolled                  100   \n",
            "7097      2024-07-08               InProgress                  100   \n",
            "7225      2024-09-18               InProgress                  100   \n",
            "7388      2024-06-08               InProgress                  100   \n",
            "7869      2024-11-13                 Enrolled                  100   \n",
            "7889      2024-06-18                 Enrolled                  100   \n",
            "7900      2024-07-30               InProgress                  100   \n",
            "\n",
            "      Unnamed: 11 Unnamed: 12  Completion Year  Completion Time (Days)  \\\n",
            "1             NaN         NaN              NaN                     NaN   \n",
            "123           NaN         NaN              NaN                     NaN   \n",
            "504           NaN         NaN              NaN                     NaN   \n",
            "704           NaN         NaN              NaN                     NaN   \n",
            "739           NaN         NaN              NaN                     NaN   \n",
            "807           NaN         NaN              NaN                     NaN   \n",
            "1068          NaN         NaN              NaN                     NaN   \n",
            "1218          NaN         NaN              NaN                     NaN   \n",
            "1468          NaN         NaN              NaN                     NaN   \n",
            "1507          NaN         NaN              NaN                     NaN   \n",
            "1963          NaN         NaN              NaN                     NaN   \n",
            "2635          NaN         NaN              NaN                     NaN   \n",
            "2845          NaN         NaN              NaN                     NaN   \n",
            "3136          NaN         NaN              NaN                     NaN   \n",
            "3424          NaN         NaN              NaN                     NaN   \n",
            "3501          NaN         NaN              NaN                     NaN   \n",
            "3577          NaN         NaN              NaN                     NaN   \n",
            "3578          NaN         NaN              NaN                     NaN   \n",
            "3791          NaN         NaN              NaN                     NaN   \n",
            "3854          NaN         NaN              NaN                     NaN   \n",
            "3940          NaN         NaN              NaN                     NaN   \n",
            "4003          NaN         NaN              NaN                     NaN   \n",
            "4124          NaN         NaN              NaN                     NaN   \n",
            "4296          NaN         NaN              NaN                     NaN   \n",
            "4313          NaN         NaN              NaN                     NaN   \n",
            "4465          NaN         NaN              NaN                     NaN   \n",
            "4562          NaN         NaN              NaN                     NaN   \n",
            "4713          NaN         NaN              NaN                     NaN   \n",
            "4747          NaN         NaN              NaN                     NaN   \n",
            "4834          NaN         NaN              NaN                     NaN   \n",
            "4843          NaN         NaN              NaN                     NaN   \n",
            "5023          NaN         NaN              NaN                     NaN   \n",
            "5060          NaN         NaN              NaN                     NaN   \n",
            "5283          NaN         NaN              NaN                     NaN   \n",
            "5392          NaN         NaN              NaN                     NaN   \n",
            "5440          NaN         NaN              NaN                     NaN   \n",
            "5461          NaN         NaN              NaN                     NaN   \n",
            "5680          NaN         NaN              NaN                     NaN   \n",
            "5753          NaN         NaN              NaN                     NaN   \n",
            "5776          NaN         NaN              NaN                     NaN   \n",
            "5818          NaN         NaN              NaN                     NaN   \n",
            "5820          NaN         NaN              NaN                     NaN   \n",
            "5898          NaN         NaN              NaN                     NaN   \n",
            "6204          NaN         NaN              NaN                     NaN   \n",
            "6348          NaN         NaN              NaN                     NaN   \n",
            "6370          NaN         NaN              NaN                     NaN   \n",
            "6393          NaN         NaN              NaN                     NaN   \n",
            "6486          NaN         NaN              NaN                     NaN   \n",
            "6596          NaN         NaN              NaN                     NaN   \n",
            "6678          NaN         NaN              NaN                     NaN   \n",
            "6732          NaN         NaN              NaN                     NaN   \n",
            "6836          NaN         NaN              NaN                     NaN   \n",
            "7097          NaN         NaN              NaN                     NaN   \n",
            "7225          NaN         NaN              NaN                     NaN   \n",
            "7388          NaN         NaN              NaN                     NaN   \n",
            "7869          NaN         NaN              NaN                     NaN   \n",
            "7889          NaN         NaN              NaN                     NaN   \n",
            "7900          NaN         NaN              NaN                     NaN   \n",
            "\n",
            "     Likelihood of Completion  \n",
            "1                        High  \n",
            "123                      High  \n",
            "504                      High  \n",
            "704                      High  \n",
            "739                      High  \n",
            "807                      High  \n",
            "1068                     High  \n",
            "1218                     High  \n",
            "1468                     High  \n",
            "1507                     High  \n",
            "1963                     High  \n",
            "2635                     High  \n",
            "2845                     High  \n",
            "3136                     High  \n",
            "3424                     High  \n",
            "3501                     High  \n",
            "3577                     High  \n",
            "3578                     High  \n",
            "3791                     High  \n",
            "3854                     High  \n",
            "3940                     High  \n",
            "4003                     High  \n",
            "4124                     High  \n",
            "4296                     High  \n",
            "4313                     High  \n",
            "4465                     High  \n",
            "4562                     High  \n",
            "4713                     High  \n",
            "4747                     High  \n",
            "4834                     High  \n",
            "4843                     High  \n",
            "5023                     High  \n",
            "5060                     High  \n",
            "5283                     High  \n",
            "5392                     High  \n",
            "5440                     High  \n",
            "5461                     High  \n",
            "5680                     High  \n",
            "5753                     High  \n",
            "5776                     High  \n",
            "5818                     High  \n",
            "5820                     High  \n",
            "5898                     High  \n",
            "6204                     High  \n",
            "6348                     High  \n",
            "6370                     High  \n",
            "6393                     High  \n",
            "6486                     High  \n",
            "6596                     High  \n",
            "6678                     High  \n",
            "6732                     High  \n",
            "6836                     High  \n",
            "7097                     High  \n",
            "7225                     High  \n",
            "7388                     High  \n",
            "7869                     High  \n",
            "7889                     High  \n",
            "7900                     High  \n"
          ]
        }
      ],
      "source": [
        "# Task 18: Identify anomalies\n",
        "anomalies = df[(df['Course Progress (%)'] == 100) & (df['Course Status'] != 'Completed')]\n",
        "print(\"Anomalies:\")\n",
        "print(anomalies)"
      ]
    },
    {
      "cell_type": "code",
      "execution_count": 32,
      "id": "55b7241b",
      "metadata": {
        "id": "55b7241b",
        "colab": {
          "base_uri": "https://localhost:8080/"
        },
        "outputId": "33404d23-cd8e-419c-f37f-627852485636"
      },
      "outputs": [
        {
          "output_type": "stream",
          "name": "stdout",
          "text": [
            "Pivot Table:\n",
            "                                                    Course Progress (%)\n",
            "Direct Manager  Course Title                                           \n",
            "Alexandra Irwin PENA PPS 6S SME L1                            58.642857\n",
            "                PENA PPS 6S SME L2                            60.900000\n",
            "                PENA PPS 6S SME L3                            68.200000\n",
            "                PENA PPS A3 Problem Solving SME L1            46.222222\n",
            "                PENA PPS A3 Problem Solving SME L2            64.416667\n",
            "...                                                                 ...\n",
            "William Garcia  PENA PPS Standard Work SME L2                 66.571429\n",
            "                PENA PPS Standard Work SME L3                 76.625000\n",
            "                PENA PPS WPR SME L1                           64.750000\n",
            "                PENA PPS WPR SME L2                           49.090909\n",
            "                PENA PPS WPR SME L3                           57.181818\n",
            "\n",
            "[750 rows x 1 columns]\n"
          ]
        }
      ],
      "source": [
        "# Task 19: Create a pivot table grouped by direct manager and course title\n",
        "pivot_table = pd.pivot_table(df, values='Course Progress (%)', index=['Direct Manager', 'Course Title'], aggfunc='mean')\n",
        "print(\"Pivot Table:\")\n",
        "print(pivot_table)"
      ]
    },
    {
      "cell_type": "code",
      "execution_count": 33,
      "id": "525867c1",
      "metadata": {
        "id": "525867c1"
      },
      "outputs": [],
      "source": [
        "# Task 20: Perform clustering analysis\n",
        "# Calculate average progress and courses enrolled per user\n",
        "user_data = df.groupby('UserName').agg(\n",
        "    AverageProgress=('Course Progress (%)', 'mean'),\n",
        "    CoursesEnrolled=('Course Title', 'count')\n",
        ").reset_index()"
      ]
    },
    {
      "cell_type": "code",
      "execution_count": 34,
      "id": "df1a7381",
      "metadata": {
        "id": "df1a7381"
      },
      "outputs": [],
      "source": [
        "# Perform clustering\n",
        "kmeans = KMeans(n_clusters=3, random_state=42)\n",
        "user_data['Cluster'] = kmeans.fit_predict(user_data[['AverageProgress', 'CoursesEnrolled']])"
      ]
    },
    {
      "cell_type": "code",
      "execution_count": 35,
      "id": "13487263",
      "metadata": {
        "id": "13487263",
        "colab": {
          "base_uri": "https://localhost:8080/",
          "height": 564
        },
        "outputId": "d436887f-40cf-4c42-ef8c-4cf97e93771e"
      },
      "outputs": [
        {
          "output_type": "display_data",
          "data": {
            "text/plain": [
              "<Figure size 1000x600 with 1 Axes>"
            ],
            "image/png": "[encoded data removed]"
          },
          "metadata": {}
        }
      ],
      "source": [
        "# Plot the clusters\n",
        "plt.figure(figsize=(10, 6))\n",
        "plt.scatter(user_data['AverageProgress'], user_data['CoursesEnrolled'], c=user_data['Cluster'], cmap='viridis', s=100)\n",
        "plt.xlabel('Average Progress (%)')\n",
        "plt.ylabel('Number of Courses Enrolled')\n",
        "plt.title('Clustering Users Based on Progress and Enrollment')\n",
        "plt.show()"
      ]
    }
  ],
  "metadata": {
    "jupytext": {
      "cell_metadata_filter": "-all",
      "main_language": "python",
      "notebook_metadata_filter": "-all"
    },
    "colab": {
      "provenance": [],
      "include_colab_link": true
    },
    "language_info": {
      "name": "python"
    },
    "kernelspec": {
      "name": "python3",
      "display_name": "Python 3"
    }
  },
  "nbformat": 4,
  "nbformat_minor": 5
}